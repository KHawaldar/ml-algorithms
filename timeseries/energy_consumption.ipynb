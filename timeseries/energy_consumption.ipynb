import pandas as pd
df = pd.read_csv('/content/sample_data/PJME_hourly.csv')
df = df.set_index('Datetime')
df.index = pd.to_datetime(df.index)
df.describe()


